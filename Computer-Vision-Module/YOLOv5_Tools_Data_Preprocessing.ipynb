{
  "nbformat": 4,
  "nbformat_minor": 0,
  "metadata": {
    "colab": {
      "provenance": [],
      "authorship_tag": "ABX9TyOS3Lx1Jb3rXDlkHDAAVyav",
      "include_colab_link": true
    },
    "kernelspec": {
      "name": "python3",
      "display_name": "Python 3"
    },
    "language_info": {
      "name": "python"
    }
  },
  "cells": [
    {
      "cell_type": "markdown",
      "metadata": {
        "id": "view-in-github",
        "colab_type": "text"
      },
      "source": [
        "<a href=\"https://colab.research.google.com/github/BeshoAbdo173/Computer-Vision_GradProject/blob/master/YOLOv5_Tools_Data_Preprocessing.ipynb\" target=\"_parent\"><img src=\"https://colab.research.google.com/assets/colab-badge.svg\" alt=\"Open In Colab\"/></a>"
      ]
    },
    {
      "cell_type": "code",
      "execution_count": null,
      "metadata": {
        "id": "vFjqnlGIPoxA"
      },
      "outputs": [],
      "source": [
        "import pandas as pd\n",
        "import numpy as np\n",
        "import os\n",
        "import shutil\n",
        "from sklearn import model_selection\n",
        "from tqdm import tqdm\n",
        "import ast\n",
        "DATA_PATH = 'C:/Users/xxxx/Downloads/Compressed/archive/Surgical-Dataset/'\n",
        "OUTPUT_PATH = 'C:/Users/kareem/Downloads/Compressed/yolov5-master/yolov5-master/tools-data'"
      ]
    },
    {
      "cell_type": "code",
      "source": [
        "def process_data(data, data_type=\"train\"):\n",
        "     for _, row in tqdm(data.iterrows(), total=len(data)):\n",
        "         yolo_data = []\n",
        "         image_name = row[\"image_id\"]\n",
        "         image_name.replace('.txt', '')\n",
        "         width = row[\"width\"]\n",
        "         height = row[\"height\"] \n",
        "         x = row[\"x\"] \n",
        "         y = row[\"y\"]   \n",
        "         x_center = x + width / 2\n",
        "         y_center = y + height / 2\n",
        "         x_center /= 640.0\n",
        "         y_center /= 480.0\n",
        "         width /= 640.0\n",
        "         height /= 480.0\n",
        "         yolo_data.append([image_name, x_center, y_center, width, height])\n",
        "         yolo_data = np.array(yolo_data)\n",
        "         np.savetxt(\n",
        "             os.path.join(OUTPUT_PATH, f\"Labels/{data_type}/{image_name}.txt\",\n",
        "             yolo_data,\n",
        "             fmt = [\"%d\", \"%f\", \"%f\", \"%f\", \"%f\"])\n",
        "          )\n",
        "         shutil.copyfile(\n",
        "              os.path.join(DATA_PATH, f\"/Images/All/images/{image_name}.jpg\"),\n",
        "            os.path.join(OUTPUT_PATH, f\"/images/{data_type}/{image_name}.jpg\")  \n",
        "          )"
      ],
      "metadata": {
        "id": "YMxEyMRBQJeP"
      },
      "execution_count": null,
      "outputs": []
    },
    {
      "cell_type": "code",
      "source": [
        "import pandas as pd\n",
        "import numpy as np\n",
        "import os\n",
        "import shutil\n",
        "from sklearn import model_selection\n",
        "from tqdm import tqdm\n",
        "import ast\n",
        "DATA_PATH = 'C:/Users/kareem/Downloads/Compressed/archive/Surgical-Dataset/'\n",
        "OUTPUT_PATH = 'C:/Users/kareem/Downloads/Compressed/yolov5-master/yolov5-master/tools-data/'\n",
        "\n",
        "\n",
        "def process_data(data, data_type=\"train\"):\n",
        "     for _, row in tqdm(data.iterrows(), total=len(data)):\n",
        "         yolo_data = []\n",
        "         image_name = row[\"image_id\"]\n",
        "         image_name.replace('.txt', '')\n",
        "         width = float(row[\"width\"])\n",
        "         height = row[\"height\"] \n",
        "         x = row[\"x\"] \n",
        "         y = row[\"y\"]   \n",
        "         x_center = x + width / 2\n",
        "         y_center = y + height / 2\n",
        "         x_center /= 640.0\n",
        "         y_center /= 480.0\n",
        "         width /= 640.0\n",
        "         height /= 480.0\n",
        "         yolo_data.append([image_name, x_center, y_center, width, height])\n",
        "         yolo_data = np.array(yolo_data)\n",
        "         np.savetxt(\n",
        "             os.path.join(OUTPUT_PATH, f\"Labels/{data_type}/{image_name}.txt\",\n",
        "             yolo_data,\n",
        "             fmt = [\"%d\", \"%f\", \"%f\", \"%f\", \"%f\"])\n",
        "          )\n",
        "         shutil.copyfile(\n",
        "              os.path.join(DATA_PATH, f\"Images/All/images/{image_name}.jpg\"),\n",
        "            os.path.join(OUTPUT_PATH, f\"images/{data_type}/{image_name}.jpg\")  \n",
        "          )\n",
        "\n",
        "\n",
        "if __name__ == \"__main__\":\n",
        "     df = pd.read_csv(\"Copyoftrain.csv\")\n",
        "     df_width = df.width.apply(ast.literal_eval)\n",
        "     df_height = df.height.apply(ast.literal_eval)\n",
        "     df_x = df.x.apply(ast.literal_eval)\n",
        "     df_y = df.y.apply(ast.literal_eval)\n",
        "     df = df.groupby (\"image_id\")[\"width\",\"height\",\"x\",\"y\"].apply(list).reset_index(name=\"bboxes\")\n",
        "                 \n",
        "     df_train, df_valid  = model_selection.train_test_split(df, \n",
        "     test_size=0.1,\n",
        "     random_state=42, \n",
        "     shuffle=True)\n",
        "     df_train = df_train.reset_index(drop = True)\n",
        "     df_valid = df_valid.reset_index(drop = True)\n",
        "\n",
        "process_data(df_train, data_type=\"train\")\n",
        "process_data(df_valid, data_type=\"validation\")\n"
      ],
      "metadata": {
        "id": "Tw5fjDXsQJbp"
      },
      "execution_count": null,
      "outputs": []
    }
  ]
}